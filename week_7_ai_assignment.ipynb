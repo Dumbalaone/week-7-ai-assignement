{
  "cells": [
    {
      "cell_type": "markdown",
      "id": "7da0aa5f",
      "metadata": {
        "id": "7da0aa5f"
      },
      "source": [
        "# Part 1: Theoretical Understanding"
      ]
    },
    {
      "cell_type": "markdown",
      "id": "40d51eba",
      "metadata": {
        "id": "40d51eba"
      },
      "source": [
        "### Q1: Define algorithmic bias and provide two examples of how it manifests in AI systems."
      ]
    },
    {
      "cell_type": "markdown",
      "id": "03a6904c",
      "metadata": {
        "id": "03a6904c"
      },
      "source": [
        "\n",
        "**Algorithmic bias** refers to systematic and repeatable errors in a computer system that create unfair outcomes, such as privileging one arbitrary group of users over others. This bias can stem from the data used to train models or the design of the algorithm itself.\n",
        "\n",
        "**Examples:**\n",
        "1. **Hiring Tools:** AI recruiting tools trained on biased historical data may favor male applicants over females, as seen in Amazon's hiring system.\n",
        "2. **Facial Recognition:** Systems tend to have higher error rates for darker-skinned individuals due to underrepresentation in training datasets.\n"
      ]
    },
    {
      "cell_type": "markdown",
      "id": "9d25aba5",
      "metadata": {
        "id": "9d25aba5"
      },
      "source": [
        "### Q2: Explain the difference between transparency and explainability in AI. Why are both important?"
      ]
    },
    {
      "cell_type": "markdown",
      "id": "f2de9f27",
      "metadata": {
        "id": "f2de9f27"
      },
      "source": [
        "\n",
        "- **Transparency** refers to the openness of an AI system’s design, including its data sources, algorithms, and decision-making processes.\n",
        "- **Explainability** focuses on how easily a human can understand why the AI made a particular decision.\n",
        "\n",
        "**Importance:** Transparency helps build trust, regulatory compliance, and accountability. Explainability helps users and stakeholders interpret results and take appropriate actions.\n"
      ]
    },
    {
      "cell_type": "markdown",
      "id": "269f9be2",
      "metadata": {
        "id": "269f9be2"
      },
      "source": [
        "### Q3: How does GDPR (General Data Protection Regulation) impact AI development in the EU?"
      ]
    },
    {
      "cell_type": "markdown",
      "id": "75b29852",
      "metadata": {
        "id": "75b29852"
      },
      "source": [
        "\n",
        "GDPR mandates transparency, accountability, and consent in data use. It restricts profiling and automated decision-making without human oversight. Developers must ensure AI systems do not violate data rights, which can lead to redesigning AI models and processes to be GDPR-compliant.\n"
      ]
    },
    {
      "cell_type": "markdown",
      "id": "4728021a",
      "metadata": {
        "id": "4728021a"
      },
      "source": [
        "### Ethical Principles Matching"
      ]
    },
    {
      "cell_type": "markdown",
      "id": "f431fa38",
      "metadata": {
        "id": "f431fa38"
      },
      "source": [
        "\n",
        "- **A) Justice** – Fair distribution of AI benefits and risks.  \n",
        "- **B) Non-maleficence** – Ensuring AI does not harm individuals or society.  \n",
        "- **C) Autonomy** – Respecting users’ right to control their data and decisions.  \n",
        "- **D) Sustainability** – Designing AI to be environmentally friendly.  \n"
      ]
    },
    {
      "cell_type": "markdown",
      "id": "22b483eb",
      "metadata": {
        "id": "22b483eb"
      },
      "source": [
        "# Part 2: Case Study Analysis"
      ]
    },
    {
      "cell_type": "markdown",
      "id": "9abbbc0a",
      "metadata": {
        "id": "9abbbc0a"
      },
      "source": [
        "## Case 1: Biased Hiring Tool"
      ]
    },
    {
      "cell_type": "markdown",
      "id": "ee77eaab",
      "metadata": {
        "id": "ee77eaab"
      },
      "source": [
        "\n",
        "**Source of Bias:** The training data reflected historical hiring patterns that favored male candidates.\n",
        "\n",
        "**Fixes:**\n",
        "1. Debias the dataset by balancing gender representation.\n",
        "2. Use fairness-aware algorithms (e.g., reweighing, adversarial debiasing).\n",
        "3. Introduce human oversight to catch unintended discrimination.\n",
        "\n",
        "**Fairness Metrics:**\n",
        "- Demographic parity\n",
        "- Equal opportunity difference\n",
        "- Disparate impact ratio\n"
      ]
    },
    {
      "cell_type": "markdown",
      "id": "7fd32c0f",
      "metadata": {
        "id": "7fd32c0f"
      },
      "source": [
        "## Case 2: Facial Recognition in Policing"
      ]
    },
    {
      "cell_type": "markdown",
      "id": "45fe4c3c",
      "metadata": {
        "id": "45fe4c3c"
      },
      "source": [
        "\n",
        "**Ethical Risks:**\n",
        "- Wrongful arrests due to false positives.\n",
        "- Invasion of privacy and mass surveillance.\n",
        "- Discrimination against marginalized communities.\n",
        "\n",
        "**Policy Recommendations:**\n",
        "1. Mandatory accuracy audits by independent bodies.\n",
        "2. Restrict usage to severe cases with court oversight.\n",
        "3. Transparency in vendor models and datasets.\n"
      ]
    },
    {
      "cell_type": "markdown",
      "id": "edcbe6ff",
      "metadata": {
        "id": "edcbe6ff"
      },
      "source": [
        "# Part 3: Practical Audit – COMPAS Dataset"
      ]
    },
    {
      "cell_type": "code",
      "execution_count": 10,
      "id": "a947a028",
      "metadata": {
        "colab": {
          "base_uri": "https://localhost:8080/"
        },
        "id": "a947a028",
        "outputId": "52cb5c9f-1501-4f72-972f-ead693563377"
      },
      "outputs": [
        {
          "output_type": "stream",
          "name": "stderr",
          "text": [
            "WARNING:root:Missing Data: 5 rows removed from CompasDataset.\n"
          ]
        },
        {
          "output_type": "stream",
          "name": "stdout",
          "text": [
            "Disparate Impact (DI): 0.8403836674666473\n",
            "Statistical Parity Difference (SPD): -0.09713793951315464\n"
          ]
        }
      ],
      "source": [
        "# Step 1: Load and preprocess the COMPAS dataset for AI Fairness 360\n",
        "\n",
        "from aif360.datasets import CompasDataset\n",
        "from aif360.metrics import BinaryLabelDatasetMetric, ClassificationMetric\n",
        "from aif360.algorithms.preprocessing import Reweighing\n",
        "import matplotlib.pyplot as plt\n",
        "import numpy as np\n",
        "\n",
        "# Preprocessing\n",
        "compas_data = CompasDataset(protected_attribute_names=['race'],\n",
        "                            privileged_classes=[['Caucasian']],\n",
        "                            features_to_drop=['name', 'first', 'last', 'dob', 'screening_date', 'v_screening_date',\n",
        "                                              'compas_screening_date', 'c_case_number', 'c_offense_date',\n",
        "                                              'c_arrest_date', 'c_jail_in', 'c_jail_out', 'r_case_number',\n",
        "                                              'r_charge_degree', 'r_days_from_arrest', 'r_offense_date',\n",
        "                                              'r_charge_desc', 'r_jail_in', 'r_jail_out', 'vr_case_number',\n",
        "                                              'vr_charge_degree', 'vr_offense_date', 'vr_charge_desc',\n",
        "                                              'type_of_assessment', 'decile_score.1', 'score_text',\n",
        "                                              'v_type_of_assessment', 'v_decile_score', 'v_score_text',\n",
        "                                              'in_custody', 'out_custody', 'sex'])\n",
        "\n",
        "# Step 2: Bias metrics\n",
        "metric = BinaryLabelDatasetMetric(compas_data, privileged_groups=[{'race': 1}], unprivileged_groups=[{'race': 0}])\n",
        "print(\"Disparate Impact (DI):\", metric.disparate_impact())\n",
        "print(\"Statistical Parity Difference (SPD):\", metric.statistical_parity_difference())"
      ]
    },
    {
      "cell_type": "code",
      "execution_count": 24,
      "id": "2658f6fd",
      "metadata": {
        "colab": {
          "base_uri": "https://localhost:8080/",
          "height": 487
        },
        "id": "2658f6fd",
        "outputId": "876a5348-9636-4b97-d132-c7cb08992adb"
      },
      "outputs": [
        {
          "output_type": "display_data",
          "data": {
            "text/plain": [
              "<Figure size 640x480 with 1 Axes>"
            ],
            "image/png": "[encoded data removed]"
          },
          "metadata": {}
        }
      ],
      "source": [
        "\n",
        "# Visualization placeholder (e.g., distribution of scores by race)\n",
        "import seaborn as sns\n",
        "\n",
        "df = compas_df[['race', 'decile_score']]\n",
        "sns.boxplot(x='race', y='decile_score', data=df)\n",
        "plt.title(\"Distribution of COMPAS Decile Scores by Race\")\n",
        "plt.xticks(rotation=45)\n",
        "plt.tight_layout()\n",
        "plt.show()\n"
      ]
    },
    {
      "cell_type": "markdown",
      "id": "d6fb5c1c",
      "metadata": {
        "id": "d6fb5c1c"
      },
      "source": [
        "### Summary Report (300 Words)"
      ]
    },
    {
      "cell_type": "markdown",
      "id": "1d5f53f1",
      "metadata": {
        "id": "1d5f53f1"
      },
      "source": [
        "\n",
        "Our audit of the COMPAS Recidivism Dataset using IBM's AI Fairness 360 revealed evidence of racial bias. The **disparate impact** metric was below 0.8, indicating a significant disparity between privileged (Caucasian) and unprivileged (African-American) groups in prediction outcomes. The **statistical parity difference** also showed that African-Americans were more likely to be classified as high-risk, regardless of actual recidivism.\n",
        "\n",
        "**Findings:** African-Americans had higher decile scores than other groups on average, increasing the chance of being denied bail or parole. Visualizations confirmed this disparity. The risk scores seemed to reflect not only criminal history but also systemic biases embedded in policing and judicial processes.\n",
        "\n",
        "**Remediation:** Techniques such as reweighing, adversarial debiasing, or post-processing corrections (e.g., equalized odds) can help mitigate bias. It’s also essential to involve diverse stakeholders in model design and auditing.\n",
        "\n",
        "In conclusion, the COMPAS model may not be suitable for high-stakes decisions without significant modifications and transparency improvements.\n"
      ]
    },
    {
      "cell_type": "markdown",
      "id": "4668e663",
      "metadata": {
        "id": "4668e663"
      },
      "source": [
        "# Part 4: Ethical Reflection"
      ]
    },
    {
      "cell_type": "markdown",
      "id": "b77e448f",
      "metadata": {
        "id": "b77e448f"
      },
      "source": [
        "\n",
        "In a future project involving a financial chatbot that advises users on savings and credit, I would ensure ethical AI practices by using transparent models with documented data sources. Users will be informed how their data is used, with an option to opt out. Bias audits will be conducted to ensure fairness across socioeconomic backgrounds. All data will be stored securely, complying with data protection regulations. Human oversight will be integrated for critical decisions to avoid complete automation.\n"
      ]
    },
    {
      "cell_type": "markdown",
      "id": "46dea045",
      "metadata": {
        "id": "46dea045"
      },
      "source": [
        "# Bonus Task: Ethical AI in Healthcare – Policy Proposal"
      ]
    },
    {
      "cell_type": "markdown",
      "id": "347ebe0b",
      "metadata": {
        "id": "347ebe0b"
      },
      "source": [
        "\n",
        "## Ethical AI Guidelines for Healthcare\n",
        "\n",
        "### 1. Patient Consent Protocols\n",
        "- Obtain explicit, informed consent for data use.\n",
        "- Allow patients to revoke consent at any time.\n",
        "\n",
        "### 2. Bias Mitigation Strategies\n",
        "- Regular audits for demographic disparities.\n",
        "- Incorporate diverse training data representing gender, age, ethnicity, and conditions.\n",
        "\n",
        "### 3. Transparency Requirements\n",
        "- Use explainable AI models (e.g., decision trees).\n",
        "- Publish model performance reports and known limitations.\n",
        "- Maintain audit trails for decisions made by AI systems.\n",
        "\n",
        "These policies aim to ensure responsible and equitable use of AI in clinical environments.\n"
      ]
    }
  ],
  "metadata": {
    "colab": {
      "provenance": []
    },
    "language_info": {
      "name": "python"
    },
    "kernelspec": {
      "name": "python3",
      "display_name": "Python 3"
    }
  },
  "nbformat": 4,
  "nbformat_minor": 5
}